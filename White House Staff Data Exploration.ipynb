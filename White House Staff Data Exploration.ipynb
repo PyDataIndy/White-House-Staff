{
 "cells": [
  {
   "cell_type": "markdown",
   "metadata": {},
   "source": [
    "<h1><center> White House Staff Data Exploration (2009-2015) </center></h1>\n",
    "\n",
    "![Image of White House](https://policynow.org/public/uploads/posts/2015/05/Us-whitehouse-logo3.jpg)"
   ]
  },
  {
   "cell_type": "markdown",
   "metadata": {},
   "source": [
    "<B>INTRO:</B>\n",
    "\n",
    "One of the most critical elements of data science begins simply with having access to information through\n",
    "a variety of modern file formats.  Whether you find yourself working with sources like flat files, XML, or JSON data this exercise should help highlight a few examples of how you can to access each source type with the modern Python data stack.  Our scope in this example will primarily use the Numpy, Pandas, & Matplotlib libraries for this exercise.\n",
    "<br>\n",
    "<br>\n",
    "<center><a href=\"http://docs.scipy.org/doc/numpy-dev/dev/\"> Numpy Docs </a></center>\n",
    "<center><a href=\"http://pandas.pydata.org/pandas-docs/stable/\"> Pandas Docs </a></center>\n",
    "<center><a href=\"http://matplotlib.org/contents.html#\"> Matplotlib Docs </a></center>"
   ]
  },
  {
   "cell_type": "markdown",
   "metadata": {},
   "source": [
    "<B>ABOUT OUR DATA:</B>\n",
    "\n",
    "Since 1995, the White House has been required to deliver a report to Congress listing the title and salary of every \n",
    "White House employee. Beginning in 2009, President Obama launched an initiative to progress government \n",
    "transparency by making an unprecedented variety of data formats available of the administration to reserachers, developers, and the public at large just as it is transmitted to Congress.\n",
    "\n",
    "In this example, we will work with available White House data in order to demonstrate the Pandas library and its powerful toolset for accessing, analyzing, and visualizing a variety of formats.\n",
    "\n",
    "- Data Sources For This Notebook - \n",
    "https://www.whitehouse.gov/briefing-room/disclosures\n",
    "<br><br>\n",
    "![Image of OpenGov](http://www.state.gov/img/10/35918/opengov_logo_137_1.gif)\n",
    "<br>"
   ]
  },
  {
   "cell_type": "code",
   "execution_count": null,
   "metadata": {
    "collapsed": false
   },
   "outputs": [],
   "source": [
    "# First, let's begin by locating our working file folder by printing the working directory by typing '!pwd'.\n",
    "\n",
    "!pwd\n",
    "\n",
    "# Item of Note: the exclamation mark is only needed in this cell since it also contains # comments.\n",
    "# Below you should see the local file folder where you have saved our White House Staff project..."
   ]
  },
  {
   "cell_type": "code",
   "execution_count": null,
   "metadata": {
    "collapsed": false
   },
   "outputs": [],
   "source": [
    "#!conda list\n",
    "\n",
    "# See the available files returned below this cell: list the contents witin a working directory (Unix style).\n",
    "\n",
    "!ls\n"
   ]
  },
  {
   "cell_type": "code",
   "execution_count": null,
   "metadata": {
    "collapsed": false
   },
   "outputs": [],
   "source": [
    "cd 'Data'"
   ]
  },
  {
   "cell_type": "code",
   "execution_count": null,
   "metadata": {
    "collapsed": false
   },
   "outputs": [],
   "source": [
    "ls"
   ]
  },
  {
   "cell_type": "code",
   "execution_count": null,
   "metadata": {
    "collapsed": false
   },
   "outputs": [],
   "source": [
    "import os\n",
    "import numpy as np\n",
    "import pandas as pd\n",
    "import glob\n",
    "import matplotlib.pyplot as plt\n",
    "\n",
    "%matplotlib inline"
   ]
  },
  {
   "cell_type": "code",
   "execution_count": null,
   "metadata": {
    "collapsed": false
   },
   "outputs": [],
   "source": [
    "#from IPython.core.display import HTML\n",
    "#css = open('style-table.css').read() + open('style-notebook.css').read()\n",
    "#HTML('<style>{}</style>'.format(css))\n",
    "\n",
    "# CSS Colors: http://www.colorhexa.com/color-names"
   ]
  },
  {
   "cell_type": "markdown",
   "metadata": {},
   "source": [
    "# CSV Concatenation from a Directory"
   ]
  },
  {
   "cell_type": "code",
   "execution_count": null,
   "metadata": {
    "collapsed": true
   },
   "outputs": [],
   "source": [
    "df_csv = pd.read_csv('2015_Report_to_Congress_on_White_House_Staff.csv')"
   ]
  },
  {
   "cell_type": "code",
   "execution_count": null,
   "metadata": {
    "collapsed": false
   },
   "outputs": [],
   "source": [
    "df_csv.head()"
   ]
  },
  {
   "cell_type": "code",
   "execution_count": null,
   "metadata": {
    "collapsed": false
   },
   "outputs": [],
   "source": [
    "df_csv.shape"
   ]
  },
  {
   "cell_type": "code",
   "execution_count": null,
   "metadata": {
    "collapsed": false,
    "scrolled": true
   },
   "outputs": [],
   "source": [
    "# Change your file path in the next line below between the single quotes ''\n",
    "\n",
    "file_path = r'C:\\Users\\...\\PyDataIndy\\White-House-Staff\\Data'\n",
    "allFiles = glob.glob(file_path + \"/*.csv\")\n",
    "\n",
    "dataframes = []\n",
    "for file in allFiles:\n",
    "    df_merge = (pd.read_csv(os.path.join(file), index_col=None, error_bad_lines=False))\n",
    "    dataframes.append(df_merge)\n",
    "merged_CSVs = pd.concat(dataframes, axis=0)\n",
    "\n",
    "merged_CSVs.head()"
   ]
  },
  {
   "cell_type": "code",
   "execution_count": null,
   "metadata": {
    "collapsed": false
   },
   "outputs": [],
   "source": [
    "merged_CSVs.shape"
   ]
  },
  {
   "cell_type": "code",
   "execution_count": null,
   "metadata": {
    "collapsed": false
   },
   "outputs": [],
   "source": [
    "merged_CSVs.dtypes"
   ]
  },
  {
   "cell_type": "markdown",
   "metadata": {},
   "source": [
    "# Derived Data with Concatenation"
   ]
  },
  {
   "cell_type": "code",
   "execution_count": null,
   "metadata": {
    "collapsed": false
   },
   "outputs": [],
   "source": [
    "\n",
    "df_2009 = pd.read_csv('2009_Report_to_Congress_on_White_House_Staff.csv')\n",
    "df_2010 = pd.read_csv('2010_Report_to_Congress_on_White_House_Staff.csv')\n",
    "df_2011 = pd.read_csv('2011_Report_to_Congress_on_White_House_Staff.csv')\n",
    "df_2012 = pd.read_csv('2012_Report_to_Congress_on_White_House_Staff.csv')\n",
    "df_2013 = pd.read_csv('2013_Report_to_Congress_on_White_House_Staff.csv')\n",
    "df_2014 = pd.read_csv('2014_Report_to_Congress_on_White_House_Staff.csv')\n",
    "df_2015 = pd.read_csv('2015_Report_to_Congress_on_White_House_Staff.csv')\n",
    "\n",
    "df_2009['Year'] = 2009\n",
    "df_2010['Year'] = 2010\n",
    "df_2011['Year'] = 2011\n",
    "df_2012['Year'] = 2012\n",
    "df_2013['Year'] = 2013\n",
    "df_2014['Year'] = 2014\n",
    "df_2015['Year'] = 2015\n"
   ]
  },
  {
   "cell_type": "code",
   "execution_count": null,
   "metadata": {
    "collapsed": false
   },
   "outputs": [],
   "source": [
    "df_concat = pd.concat([df_2009, df_2010, df_2011, df_2012, df_2013, df_2014, df_2015])"
   ]
  },
  {
   "cell_type": "code",
   "execution_count": null,
   "metadata": {
    "collapsed": false
   },
   "outputs": [],
   "source": [
    "df_concat.head()"
   ]
  },
  {
   "cell_type": "code",
   "execution_count": null,
   "metadata": {
    "collapsed": false
   },
   "outputs": [],
   "source": [
    "df_concat.shape\n",
    "\n",
    "# Alternative method if tuple is not desired. --> len(df_concat)"
   ]
  },
  {
   "cell_type": "code",
   "execution_count": null,
   "metadata": {
    "collapsed": false
   },
   "outputs": [],
   "source": [
    "df_concat['Status'].value_counts()"
   ]
  },
  {
   "cell_type": "code",
   "execution_count": null,
   "metadata": {
    "collapsed": false
   },
   "outputs": [],
   "source": [
    "status_count = df_concat['Status'].value_counts()\n",
    "title_count = df_concat['Position Title'].value_counts()\n",
    "year_count = df_concat['Year'].value_counts()\n",
    "\n",
    "year_count.sort_index().plot(kind='bar')"
   ]
  },
  {
   "cell_type": "code",
   "execution_count": null,
   "metadata": {
    "collapsed": false
   },
   "outputs": [],
   "source": [
    "df_concat['Salary'].describe()"
   ]
  },
  {
   "cell_type": "markdown",
   "metadata": {},
   "source": [
    "# Grouped Data"
   ]
  },
  {
   "cell_type": "code",
   "execution_count": null,
   "metadata": {
    "collapsed": false
   },
   "outputs": [],
   "source": [
    "grouped = df_concat.groupby(['Position Title']) ['Salary']\n",
    "aggregated = grouped.agg([np.sum, np.mean, np.std, np.size, np.min, np.max])\n",
    "\n",
    "# Sort values for display\n",
    "pd.set_option('display.max_rows', 250)\n",
    "df_groupby = aggregated.sort_values(by=['size'],ascending=1)\n",
    "df_groupby.head(15)"
   ]
  },
  {
   "cell_type": "code",
   "execution_count": null,
   "metadata": {
    "collapsed": true
   },
   "outputs": [],
   "source": []
  },
  {
   "cell_type": "code",
   "execution_count": null,
   "metadata": {
    "collapsed": true
   },
   "outputs": [],
   "source": []
  },
  {
   "cell_type": "code",
   "execution_count": null,
   "metadata": {
    "collapsed": true
   },
   "outputs": [],
   "source": []
  }
 ],
 "metadata": {
  "kernelspec": {
   "display_name": "Python 3",
   "language": "python",
   "name": "python3"
  },
  "language_info": {
   "codemirror_mode": {
    "name": "ipython",
    "version": 3
   },
   "file_extension": ".py",
   "mimetype": "text/x-python",
   "name": "python",
   "nbconvert_exporter": "python",
   "pygments_lexer": "ipython3",
   "version": "3.5.1"
  }
 },
 "nbformat": 4,
 "nbformat_minor": 0
}
